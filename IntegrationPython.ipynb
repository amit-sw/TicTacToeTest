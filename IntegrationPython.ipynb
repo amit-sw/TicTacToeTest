{
  "nbformat": 4,
  "nbformat_minor": 0,
  "metadata": {
    "colab": {
      "name": "IntegrationPython.ipynb",
      "private_outputs": true,
      "provenance": [],
      "authorship_tag": "ABX9TyOh+wk8P5IL9/83dGCfpcUW",
      "include_colab_link": true
    },
    "kernelspec": {
      "name": "python3",
      "display_name": "Python 3"
    }
  },
  "cells": [
    {
      "cell_type": "markdown",
      "metadata": {
        "id": "view-in-github",
        "colab_type": "text"
      },
      "source": [
        "<a href=\"https://colab.research.google.com/github/amit-sw/TicTacToeTest/blob/main/IntegrationPython.ipynb\" target=\"_parent\"><img src=\"https://colab.research.google.com/assets/colab-badge.svg\" alt=\"Open In Colab\"/></a>"
      ]
    },
    {
      "cell_type": "code",
      "metadata": {
        "id": "q8lih8gb2okA"
      },
      "source": [
        "import requests\r\n",
        "import json\r\n",
        "def get_prediction(data={\"num_countries\":8,\"years_school\":1,\"height\":4.165}):\r\n",
        "  url = 'https://923rstg27g.execute-api.us-east-1.amazonaws.com/Predict/4e38cc07-261f-4a53-87dd-795979fe28d2'\r\n",
        "  r = requests.post(url, data=json.dumps(data))\r\n",
        "  response = getattr(r,'_content').decode(\"utf-8\")\r\n",
        "  print(\"Response is:\",response)\r\n",
        "  body=json.loads(response)[\"body\"]\r\n",
        "  #print(\"Body is:\",body)\r\n",
        "  predicted_label=json.loads(body)[\"predicted_label\"]\r\n",
        "  #print(\"Predicted label is:\",predicted_label)\r\n",
        "  return predicted_label\r\n",
        "label = get_prediction()\r\n",
        "print(\"Predicted label: \",label)"
      ],
      "execution_count": null,
      "outputs": []
    }
  ]
}