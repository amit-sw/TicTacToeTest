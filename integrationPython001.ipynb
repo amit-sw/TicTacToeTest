{
  "nbformat": 4,
  "nbformat_minor": 0,
  "metadata": {
    "colab": {
      "name": "Untitled3.ipynb",
      "provenance": [],
      "authorship_tag": "ABX9TyNPwGSYqfureyIypdUHHytZ",
      "include_colab_link": true
    },
    "kernelspec": {
      "name": "python3",
      "display_name": "Python 3"
    }
  },
  "cells": [
    {
      "cell_type": "markdown",
      "metadata": {
        "id": "view-in-github",
        "colab_type": "text"
      },
      "source": [
        "<a href=\"https://colab.research.google.com/github/amit-sw/TicTacToeTest/blob/main/integrationPython001.ipynb\" target=\"_parent\"><img src=\"https://colab.research.google.com/assets/colab-badge.svg\" alt=\"Open In Colab\"/></a>"
      ]
    },
    {
      "cell_type": "code",
      "metadata": {
        "colab": {
          "base_uri": "https://localhost:8080/",
          "height": 89
        },
        "id": "Eem0lLse0m-K",
        "outputId": "deb3be79-9b42-44e3-a8f7-b93b33916db5"
      },
      "source": [
        "import requests\r\n",
        "import json\r\n",
        "def get_prediction(data={\"num_countries\":8,\"years_school\":1,\"height\":4.165}):\r\n",
        "  url = 'https://923rstg27g.execute-api.us-east-1.amazonaws.com/Predict/4e38cc07-261f-4a53-87dd-795979fe28d2'\r\n",
        "  r = requests.post(url, data=json.dumps(data))\r\n",
        "  response = getattr(r,'_content').decode(\"utf-8\")\r\n",
        "  print(response)\r\n",
        "  return response\r\n",
        "get_prediction()"
      ],
      "execution_count": 6,
      "outputs": [
        {
          "output_type": "stream",
          "text": [
            "{\"statusCode\": 200, \"body\": \"{\\\"predicted_label\\\": 1.0, \\\"Insight\\\": {}, \\\"score\\\": [[0.0, 1.0]], \\\"Model\\\": \\\"RandomForestClassifier-6f5f4299-2968-4b27-91b1-b810a804700c\\\", \\\"Message\\\": \\\"\\\"}\", \"headers\": {\"Content-Type\": \"application/json\", \"Access-Control-Allow-Origin\": \"*\"}}\n"
          ],
          "name": "stdout"
        },
        {
          "output_type": "execute_result",
          "data": {
            "application/vnd.google.colaboratory.intrinsic+json": {
              "type": "string"
            },
            "text/plain": [
              "'{\"statusCode\": 200, \"body\": \"{\\\\\"predicted_label\\\\\": 1.0, \\\\\"Insight\\\\\": {}, \\\\\"score\\\\\": [[0.0, 1.0]], \\\\\"Model\\\\\": \\\\\"RandomForestClassifier-6f5f4299-2968-4b27-91b1-b810a804700c\\\\\", \\\\\"Message\\\\\": \\\\\"\\\\\"}\", \"headers\": {\"Content-Type\": \"application/json\", \"Access-Control-Allow-Origin\": \"*\"}}'"
            ]
          },
          "metadata": {
            "tags": []
          },
          "execution_count": 6
        }
      ]
    }
  ]
}